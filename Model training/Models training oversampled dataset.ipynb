{
 "cells": [
  {
   "cell_type": "markdown",
   "id": "98696db3",
   "metadata": {},
   "source": [
    "# Handling Imbalanced Dataset with Random Oversampling"
   ]
  },
  {
   "cell_type": "code",
   "execution_count": null,
   "id": "d7d0c979",
   "metadata": {},
   "outputs": [],
   "source": [
    "pip install -U imbalanced-learn"
   ]
  },
  {
   "cell_type": "code",
   "execution_count": null,
   "id": "424bf6ad",
   "metadata": {},
   "outputs": [],
   "source": [
    "import imblearn\n",
    "from imblearn.over_sampling import RandomOverSampler "
   ]
  },
  {
   "cell_type": "code",
   "execution_count": null,
   "id": "25da300f",
   "metadata": {},
   "outputs": [],
   "source": [
    "oversample = RandomOverSampler(sampling_strategy='minority',random_state=42)"
   ]
  },
  {
   "cell_type": "code",
   "execution_count": null,
   "id": "3bf00429",
   "metadata": {},
   "outputs": [],
   "source": [
    "df2_imb=urdu_news.copy()"
   ]
  },
  {
   "cell_type": "code",
   "execution_count": null,
   "id": "97588da1",
   "metadata": {},
   "outputs": [],
   "source": [
    "df2_imb.head(2)"
   ]
  },
  {
   "cell_type": "code",
   "execution_count": null,
   "id": "786ad136",
   "metadata": {},
   "outputs": [],
   "source": [
    "df2_imb.dropna(axis=1,inplace=True)"
   ]
  },
  {
   "cell_type": "code",
   "execution_count": null,
   "id": "34b033ee",
   "metadata": {},
   "outputs": [],
   "source": [
    "df2_imb['Date'] = pd.to_datetime(df2_imb['Date'])"
   ]
  },
  {
   "cell_type": "code",
   "execution_count": null,
   "id": "4c258ddc",
   "metadata": {},
   "outputs": [],
   "source": [
    "df2_imb['Class'].value_counts().reset_index()"
   ]
  },
  {
   "cell_type": "code",
   "execution_count": null,
   "id": "17530e33",
   "metadata": {},
   "outputs": [],
   "source": [
    "# Text Normalization\n",
    "df2_imb['News Headlines'] = df2_imb['News Headlines'].apply(normalize)\n",
    "# Text normalize characters\n",
    "df2_imb['News Headlines'] = df2_imb['News Headlines'].apply(normalize_characters)\n",
    "# Text normalize combined characters\n",
    "df2_imb['News Headlines'] = df2_imb['News Headlines'].apply(normalize_combine_characters)\n",
    "# remove_diacritics\n",
    "df2_imb['News Headlines'] = df2_imb['News Headlines'].apply(remove_diacritics)\n",
    "df2_imb['News Headlines'] = df2_imb['News Headlines'].apply(normalize_whitespace) \n",
    "df2_imb['News Headlines'] = df2_imb['News Headlines'].apply(preprocess) \n",
    "df2_imb['News Headlines']= df2_imb['News Headlines'].apply(remove_punctuation) \n",
    "df2_imb['News Headlines'] = df2_imb['News Headlines'].apply(remove_accents)\n",
    "df2_imb['News Headlines'] = df2_imb['News Headlines'].apply(replace_urls) \n",
    "df2_imb['News Headlines']= df2_imb['News Headlines'].apply(replace_numbers) \n",
    "df2_imb['News Headlines'] = df2_imb['News Headlines'].apply(replace_emails) \n",
    "df2_imb['News Headlines'] = df2_imb['News Headlines'].apply(replace_currency_symbols) \n",
    "df2_imb['News Headlines'] = df2_imb['News Headlines'].apply(normalize_whitespace) \n",
    "df2_imb['News Headlines'] = df2_imb['News Headlines'].apply(digits_space)"
   ]
  },
  {
   "cell_type": "code",
   "execution_count": null,
   "id": "db659489",
   "metadata": {},
   "outputs": [],
   "source": [
    "df2_imb['lemmatized_text'] = df2_imb['News Headlines'].apply(lemitizeStr)"
   ]
  },
  {
   "cell_type": "code",
   "execution_count": null,
   "id": "bbeffbb1",
   "metadata": {},
   "outputs": [],
   "source": [
    "df2_imb = df2_imb.sample(frac=1,random_state=42)\n",
    "df2_imb.reset_index(drop=True)"
   ]
  },
  {
   "cell_type": "code",
   "execution_count": null,
   "id": "ab3fbc29",
   "metadata": {},
   "outputs": [],
   "source": [
    "split_index_1_imb = int(len(df2_imb) * 0.8)\n",
    "split_index_2_imb = int(len(df2_imb) * 0.9)"
   ]
  },
  {
   "cell_type": "code",
   "execution_count": null,
   "id": "2d4cf6c6",
   "metadata": {},
   "outputs": [],
   "source": [
    "train_df2_imb, val_df2_imb, test_df2_imb = df2_imb [:split_index_1_imb],df2_imb [split_index_1_imb:split_index_2_imb],\n",
    "df2_imb[split_index_2_imb:]"
   ]
  },
  {
   "cell_type": "code",
   "execution_count": null,
   "id": "be73689d",
   "metadata": {},
   "outputs": [],
   "source": [
    "test_df2=test_df2_imb.copy()"
   ]
  },
  {
   "cell_type": "code",
   "execution_count": null,
   "id": "0b7bae32",
   "metadata": {},
   "outputs": [],
   "source": [
    "train_df2_imb['Class'].value_counts().reset_index()"
   ]
  },
  {
   "cell_type": "code",
   "execution_count": null,
   "id": "5c7f7c78",
   "metadata": {},
   "outputs": [],
   "source": [
    "x_train_df2_imb=train_df2_imb.drop(columns=['Class'])\n",
    "y_train_df2_imb=train_df2_imb[['Class']]"
   ]
  },
  {
   "cell_type": "code",
   "execution_count": null,
   "id": "a16f45f2",
   "metadata": {},
   "outputs": [],
   "source": [
    "train_x, train_y = oversample.fit_resample(x_train_df2_imb, y_train_df2_imb)"
   ]
  },
  {
   "cell_type": "code",
   "execution_count": null,
   "id": "3eed6d00",
   "metadata": {},
   "outputs": [],
   "source": [
    "train_df2_sampled=pd.concat([train_x, train_y],axis=1)"
   ]
  },
  {
   "cell_type": "code",
   "execution_count": null,
   "id": "843928ab",
   "metadata": {},
   "outputs": [],
   "source": [
    "train_df2_sampled['Class'].value_counts()"
   ]
  },
  {
   "cell_type": "code",
   "execution_count": null,
   "id": "6522c8c4",
   "metadata": {},
   "outputs": [],
   "source": [
    "train_df2_sampled.rename(str.lower, axis='columns',inplace=True)\n",
    "val_df2_imb.rename(str.lower, axis='columns',inplace=True)\n",
    "test_df2.rename(str.lower, axis='columns',inplace=True)"
   ]
  },
  {
   "cell_type": "code",
   "execution_count": null,
   "id": "9f91b14d",
   "metadata": {},
   "outputs": [],
   "source": [
    "temp1 = train_df2_sampled.groupby('class').count()['labels'].reset_index().sort_values(by='class',ascending=True)\n",
    "temp1.style.background_gradient(cmap='Purples')"
   ]
  },
  {
   "cell_type": "code",
   "execution_count": null,
   "id": "a9c8c245",
   "metadata": {},
   "outputs": [],
   "source": [
    "fig = go.Figure(go.Funnelarea(\n",
    "    text = temp1['class'],\n",
    "    values = temp1.labels,\n",
    "    title = {\"position\": \"top center\", \"text\": \" Train Sentiment Class Distribution\"}\n",
    "    ))\n",
    "fig.show()"
   ]
  },
  {
   "cell_type": "code",
   "execution_count": null,
   "id": "3f4ed411",
   "metadata": {},
   "outputs": [],
   "source": [
    "temp2 = val_df2_imb.groupby('class').count()['labels'].reset_index().sort_values(by='class',ascending=True)\n",
    "temp2.style.background_gradient(cmap='Purples')"
   ]
  },
  {
   "cell_type": "code",
   "execution_count": null,
   "id": "5b7a44f3",
   "metadata": {},
   "outputs": [],
   "source": [
    "fig = go.Figure(go.Funnelarea(\n",
    "    text = temp2['class'],\n",
    "    values = temp2.labels,\n",
    "    title = {\"position\": \"top center\", \"text\": \" Validation Sentiment Class Distribution\"}\n",
    "    ))\n",
    "fig.show()"
   ]
  },
  {
   "cell_type": "code",
   "execution_count": null,
   "id": "6237b9fb",
   "metadata": {},
   "outputs": [],
   "source": [
    "temp3 = test_df2.groupby('class').count()['labels'].reset_index().sort_values(by='class',ascending=True)\n",
    "temp3.style.background_gradient(cmap='Purples')\n",
    "fig = go.Figure(go.Funnelarea(\n",
    "    text = temp3['class'],\n",
    "    values = temp3.labels,\n",
    "    title = {\"position\": \"top center\", \"text\": \" Validation Sentiment Class Distribution\"}\n",
    "    ))\n",
    "fig.show()"
   ]
  },
  {
   "cell_type": "code",
   "execution_count": null,
   "id": "e4805457",
   "metadata": {},
   "outputs": [],
   "source": [
    "Batch_Size=4"
   ]
  },
  {
   "cell_type": "code",
   "execution_count": null,
   "id": "d15d9e9a",
   "metadata": {},
   "outputs": [],
   "source": [
    "encoder = LabelEncoder()\n",
    "encoder.fit(df2_imb['Class'].tolist())\n",
    "\n",
    "y_train_df2_sampled = encoder.transform(train_df2_sampled['class'].tolist())\n",
    "y_test_df2_sampled = encoder.transform(test_df2['class'].tolist())\n",
    "y_val_df2_sampled = encoder.transform(val_df2_imb['class'].tolist())\n",
    "\n",
    "\n",
    "y_train_df2_sampled_1 = y_train_df2_sampled.reshape(-1,1)\n",
    "y_test_df2_sampled_1 = y_test_df2_sampled.reshape(-1,1)\n",
    "y_val_df2_sampled_1 = y_val_df2_sampled.reshape(-1,1)\n",
    "\n",
    "print(\"y_train\",y_train_df2_sampled_1.shape)\n",
    "print(\"y_test\",y_test_df2_sampled_1.shape)\n",
    "print(\"y_val\",y_val_df2_sampled_1.shape)"
   ]
  },
  {
   "cell_type": "code",
   "execution_count": null,
   "id": "ef6ae999",
   "metadata": {},
   "outputs": [],
   "source": [
    "train_encoded_sampled_1=train_df2_sampled.lemmatized_text.tolist()\n",
    "val_encoded_sampled_1=val_df2_imb.lemmatized_text.tolist()\n",
    "test_encoded_sampled_1=test_df2.lemmatized_text.tolist()\n",
    "train_encoded_sampled_1 = robert_encode(train_encoded_sampled_1)\n",
    "val_encoded_sampled_1 = robert_encode(val_encoded_sampled_1)\n",
    "test_encoded_sampled_1 = robert_encode(test_encoded_sampled_1)"
   ]
  },
  {
   "cell_type": "code",
   "execution_count": null,
   "id": "a179dfba",
   "metadata": {},
   "outputs": [],
   "source": [
    "train_encoded_sampled = bert_encode(train_df2_sampled.lemmatized_text)\n",
    "val_encoded_sampled = bert_encode(val_df2_imb.lemmatized_text)\n",
    "test_encoded_sampled = bert_encode(test_df2.lemmatized_text)"
   ]
  },
  {
   "cell_type": "code",
   "execution_count": null,
   "id": "b13409db",
   "metadata": {},
   "outputs": [],
   "source": [
    "train_dataset_sampled = (\n",
    "    tf.data.Dataset\n",
    "    .from_tensor_slices((train_encoded_sampled, y_train_df2_sampled))\n",
    "    .shuffle(1000)\n",
    "    .batch(Batch_Size,drop_remainder=True)\n",
    ")\n",
    "\n",
    "val_dataset_sampled = (\n",
    "    tf.data.Dataset\n",
    "    .from_tensor_slices((val_encoded_sampled, y_val_df2_sampled))\n",
    "    .shuffle(1000)\n",
    "    .batch(Batch_Size,drop_remainder=True)\n",
    ")\n",
    "\n",
    "test_dataset_sampled = (\n",
    "    tf.data.Dataset\n",
    "    .from_tensor_slices((test_encoded_sampled, y_test_df2_sampled))\n",
    "    .batch(Batch_Size)\n",
    ")"
   ]
  },
  {
   "cell_type": "code",
   "execution_count": null,
   "id": "05bc0347",
   "metadata": {},
   "outputs": [],
   "source": [
    "train_dataset_sampled_1 = (\n",
    "    tf.data.Dataset\n",
    "    .from_tensor_slices((train_encoded_sampled_1, y_train_df2_sampled_1))\n",
    "    .shuffle(1000)\n",
    "    .batch(Batch_Size,drop_remainder=True)\n",
    ")\n",
    "\n",
    "val_dataset_sampled_1 = (\n",
    "    tf.data.Dataset\n",
    "    .from_tensor_slices((val_encoded_sampled_1, y_val_df2_sampled_1))\n",
    "    .shuffle(1000)\n",
    "    .batch(Batch_Size,drop_remainder=True)\n",
    ")\n",
    "\n",
    "test_dataset_sampled_1 = (\n",
    "    tf.data.Dataset\n",
    "    .from_tensor_slices((test_encoded_sampled_1, y_test_df2_sampled_1))\n",
    "    .batch(Batch_Size)\n",
    ")"
   ]
  },
  {
   "cell_type": "code",
   "execution_count": null,
   "id": "9e0a8174",
   "metadata": {},
   "outputs": [],
   "source": [
    "print('======Train dataset ====')\n",
    "for element in train_dataset_sampled.as_numpy_iterator(): \n",
    "    print(element) "
   ]
  },
  {
   "cell_type": "markdown",
   "id": "3f072980",
   "metadata": {},
   "source": [
    "## BERT"
   ]
  },
  {
   "cell_type": "code",
   "execution_count": null,
   "id": "6a704c7d",
   "metadata": {},
   "outputs": [],
   "source": [
    "model_sampled = bert_model(model_prembert)\n",
    "adam_optimizer = tf.keras.optimizers.Adam(learning_rate=0.002)\n",
    "acc=tf.keras.metrics.SparseCategoricalAccuracy(\n",
    "    name=\"accuracy\")\n",
    "\n",
    "model_sampled.compile(loss=tf.keras.losses.SparseCategoricalCrossentropy(from_logits=False,name=\"sparse_categorical_crossentropy\"),\n",
    "              optimizer=adam_optimizer,metrics=[acc])"
   ]
  },
  {
   "cell_type": "code",
   "execution_count": null,
   "id": "e60f1e9e",
   "metadata": {},
   "outputs": [],
   "source": [
    "%%time\n",
    " history_sampled = model_sampled.fit(\n",
    "                 train_dataset_sampled,\n",
    "                     batch_size=Batch_Size,epochs=50,validation_data=val_dataset_sampled,\n",
    "                     callbacks = callbacks)"
   ]
  },
  {
   "cell_type": "code",
   "execution_count": null,
   "id": "517fa303",
   "metadata": {},
   "outputs": [],
   "source": [
    "print(\"Evaluate\")\n",
    "result_model_sampled = model_sampled.evaluate(test_dataset_sampled, batch_size=Batch_Size)\n",
    "dict(zip(model_sampled.metrics_names, result_model_sampled))"
   ]
  },
  {
   "cell_type": "code",
   "execution_count": null,
   "id": "cbb92c4b",
   "metadata": {},
   "outputs": [],
   "source": [
    "model_sampled_pred = model_sampled.predict(test_dataset_sampled,batch_size=Batch_Size)\n",
    "model_sampled_pred"
   ]
  },
  {
   "cell_type": "code",
   "execution_count": null,
   "id": "4a1f3fe5",
   "metadata": {},
   "outputs": [],
   "source": [
    "if os.path.isfile('Bert_model_sampled/Bert_model_sampled.h5') is False:\n",
    "     model_sampled.save('Bert_model_sampled/Bert_model_sampled.h5')"
   ]
  },
  {
   "cell_type": "code",
   "execution_count": null,
   "id": "4e98f946",
   "metadata": {},
   "outputs": [],
   "source": [
    "fig, ax = plt.subplots(2, 1, figsize=(10,7))\n",
    "ax[0].plot(history_sampled.history['loss'], color='b', label=\"Training loss\")\n",
    "ax[0].plot(history_sampled.history['val_loss'], color='r', label=\"validation loss\",axes =ax[0])\n",
    "legend = ax[0].legend(loc='best', shadow=True)\n",
    "ax[1].plot(history_sampled.history['accuracy'], color='b', label=\"Training accuracy\")\n",
    "ax[1].plot(history_sampled.history['val_accuracy'], color='r',label=\"Validation accuracy\")\n",
    "legend = ax[1].legend(loc='best', shadow=True)\n",
    "plt.title(label='Bert-Multilingual Sampled',loc='center')\n",
    "plt.ylabel(\"accuracy\")\n",
    "plt.xlabel(\"Epochs\")"
   ]
  },
  {
   "cell_type": "code",
   "execution_count": null,
   "id": "12c41ebc",
   "metadata": {},
   "outputs": [],
   "source": [
    "classes_bert_sampled = np.argmax(model_sampled_pred, axis=-1)\n",
    "classes_bert_sampled=classes_bert_sampled.reshape(-1,1)\n",
    "df_actual_sampled = pd.DataFrame(y_test_df2_sampled, columns = ['actual'])\n",
    "df_predicted_bert_sampled = pd.DataFrame(classes_bert_sampled, columns = ['predicted'])\n",
    "final_bert_sampled=pd.concat([df_actual_sampled , df_predicted_bert_sampled],axis=1)\n",
    "test_pred_output_bert_sampled=pd.concat([test_df2.reset_index(drop=True), final_bert_sampled],axis=1)\n",
    "test_pred_output_bert_sampled.head(5)"
   ]
  },
  {
   "cell_type": "code",
   "execution_count": null,
   "id": "faa154ab",
   "metadata": {},
   "outputs": [],
   "source": [
    "target_names = ['Negative', 'Neutral', 'Positive']\n",
    "print(classification_report(y_test_df2_sampled, classes_bert_sampled,target_names=target_names))"
   ]
  },
  {
   "cell_type": "code",
   "execution_count": null,
   "id": "65b16882",
   "metadata": {},
   "outputs": [],
   "source": [
    "cm_sampled = confusion_matrix(y_test_df2_sampled, classes_bert_sampled)\n",
    "cmn_2 = cm_sampled.astype('float') / cm.sum(axis=1)[:, np.newaxis]\n",
    "df_cm_sampled= pd.DataFrame(cmn_2, index=target_names, columns=target_names)\n",
    "show_confusion_matrix(df_cm_sampled)"
   ]
  },
  {
   "cell_type": "markdown",
   "id": "7f7fbfd5",
   "metadata": {},
   "source": [
    "## Roberta Urdu"
   ]
  },
  {
   "cell_type": "code",
   "execution_count": null,
   "id": "83e5a358",
   "metadata": {},
   "outputs": [],
   "source": [
    "model_roberta_sampled = bert_model(model_preroberta)\n",
    "adam_optimizer = tf.keras.optimizers.Adam(learning_rate=0.002)\n",
    "acc=tf.keras.metrics.SparseCategoricalAccuracy(\n",
    "    name=\"accuracy\")\n",
    "\n",
    "model_roberta_sampled.compile(loss=tf.keras.losses.SparseCategoricalCrossentropy(from_logits=False,name=\"sparse_categorical_crossentropy\"),\n",
    "              optimizer=adam_optimizer,metrics=[acc])"
   ]
  },
  {
   "cell_type": "code",
   "execution_count": null,
   "id": "ccd8e5df",
   "metadata": {},
   "outputs": [],
   "source": [
    "%%time\n",
    "history_roberta_sampled = model_roberta_sampled.fit(\n",
    "    train_dataset_sampled_1,\n",
    "    batch_size=Batch_Size,\n",
    "    epochs=50,\n",
    "    validation_data=val_dataset_sampled_1,\n",
    "    callbacks = callbacks)"
   ]
  },
  {
   "cell_type": "code",
   "execution_count": null,
   "id": "26da812f",
   "metadata": {},
   "outputs": [],
   "source": [
    "print(\"Evaluate\")\n",
    "result_roberta_sampled = model_roberta_sampled.evaluate(test_dataset_sampled_1, batch_size=Batch_Size)\n",
    "dict(zip(model_roberta_sampled.metrics_names, result_roberta_sampled))"
   ]
  },
  {
   "cell_type": "code",
   "execution_count": null,
   "id": "5280343a",
   "metadata": {},
   "outputs": [],
   "source": [
    "model_roberta_sampled_pred = model_roberta_sampled.predict(test_dataset_sampled_1,batch_size=Batch_Size)\n",
    "model_roberta_sampled_pred"
   ]
  },
  {
   "cell_type": "code",
   "execution_count": null,
   "id": "a510ade9",
   "metadata": {},
   "outputs": [],
   "source": [
    "if os.path.isfile('Roberta_sampled/Roberta_sampled.h5') is False:\n",
    "     model_roberta_sampled.save('Roberta_sampled/Roberta_sampled.h5')"
   ]
  },
  {
   "cell_type": "code",
   "execution_count": null,
   "id": "cbdc3568",
   "metadata": {},
   "outputs": [],
   "source": [
    "fig, ax = plt.subplots(2, 1, figsize=(10,7))\n",
    "ax[0].plot(history_roberta_sampled.history['loss'], color='b', label=\"Training loss\")\n",
    "ax[0].plot(history_roberta_sampled.history['val_loss'], color='r', label=\"validation loss\",axes =ax[0])\n",
    "legend = ax[0].legend(loc='best', shadow=True)\n",
    "ax[1].plot(history_roberta_sampled.history['accuracy'], color='b', label=\"Training accuracy\")\n",
    "ax[1].plot(history_roberta_sampled.history['val_accuracy'], color='r',label=\"Validation accuracy\")\n",
    "legend = ax[1].legend(loc='best', shadow=True)\n",
    "plt.title(label='Roberta Urdu Sampled',loc='center')\n",
    "plt.ylabel(\"accuracy\")\n",
    "plt.xlabel(\"Epochs\")"
   ]
  },
  {
   "cell_type": "code",
   "execution_count": null,
   "id": "e43e73c9",
   "metadata": {},
   "outputs": [],
   "source": [
    "classes_roberta_sampled_1 = np.argmax(model_roberta_sampled_pred, axis=-1)\n",
    "classes_roberta_sampled_1=classes_roberta_sampled_1.reshape(-1,1)\n",
    "df_actual_sampled_1 = pd.DataFrame(y_test_df2_sampled_1, columns = ['actual'])\n",
    "df_predicted_roberta_sampled = pd.DataFrame(classes_roberta_sampled_1, columns = ['predicted'])\n",
    "final_roberta_sampled=pd.concat([df_actual_sampled_1, df_predicted_roberta_sampled],axis=1)\n",
    "test_pred_output_robert_sampled=pd.concat([test_df2.reset_index(drop=True), final_roberta_sampled],axis=1)\n",
    "test_pred_output_robert_sampled.head(5)"
   ]
  },
  {
   "cell_type": "code",
   "execution_count": null,
   "id": "960a86ca",
   "metadata": {},
   "outputs": [],
   "source": [
    "from sklearn.metrics import classification_report\n",
    "target_names = ['Negative', 'Neutral', 'Positive']\n",
    "print(classification_report(y_test_df2_sampled_1, classes_roberta_sampled_1,target_names=target_names))"
   ]
  },
  {
   "cell_type": "code",
   "execution_count": null,
   "id": "ed504d73",
   "metadata": {},
   "outputs": [],
   "source": [
    "cm_sampled_1 = confusion_matrix(y_test_df2_sampled_1, classes_roberta_sampled_1)\n",
    "cmn_3 = cm_sampled_1.astype('float') / cm.sum(axis=1)[:, np.newaxis]\n",
    "df_cm_sampled_1= pd.DataFrame(cmn_3, index=target_names, columns=target_names)\n",
    "show_confusion_matrix(df_cm_sampled_1)"
   ]
  },
  {
   "cell_type": "code",
   "execution_count": null,
   "id": "c8b34f35",
   "metadata": {},
   "outputs": [],
   "source": [
    "from sklearn.metrics import f1_score"
   ]
  },
  {
   "cell_type": "code",
   "execution_count": null,
   "id": "7cfe3bed",
   "metadata": {},
   "outputs": [],
   "source": [
    "f1_score(y_test_df2_sampled_1, classes_roberta_sampled_1, average='micro')"
   ]
  }
 ],
 "metadata": {
  "kernelspec": {
   "display_name": "Python 3 (ipykernel)",
   "language": "python",
   "name": "python3"
  },
  "language_info": {
   "codemirror_mode": {
    "name": "ipython",
    "version": 3
   },
   "file_extension": ".py",
   "mimetype": "text/x-python",
   "name": "python",
   "nbconvert_exporter": "python",
   "pygments_lexer": "ipython3",
   "version": "3.9.12"
  }
 },
 "nbformat": 4,
 "nbformat_minor": 5
}
